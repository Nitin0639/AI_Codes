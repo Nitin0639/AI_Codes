{
  "nbformat": 4,
  "nbformat_minor": 0,
  "metadata": {
    "colab": {
      "provenance": [],
      "include_colab_link": true
    },
    "kernelspec": {
      "name": "python3",
      "display_name": "Python 3"
    },
    "language_info": {
      "name": "python"
    }
  },
  "cells": [
    {
      "cell_type": "markdown",
      "metadata": {
        "id": "view-in-github",
        "colab_type": "text"
      },
      "source": [
        "<a href=\"https://colab.research.google.com/github/Nitin0639/AI_Codes/blob/main/MP_Neuron_%26_Perceptron.ipynb\" target=\"_parent\"><img src=\"https://colab.research.google.com/assets/colab-badge.svg\" alt=\"Open In Colab\"/></a>"
      ]
    },
    {
      "cell_type": "markdown",
      "source": [
        "Lab 1: Apply MP Neuron and perceptron to solve a binary classification problem\n",
        "\n",
        "MP NEURON"
      ],
      "metadata": {
        "id": "sMKvtCob6FWw"
      }
    },
    {
      "cell_type": "markdown",
      "source": [
        "\n",
        "Boolean AND"
      ],
      "metadata": {
        "id": "yO-KWnLH5JQY"
      }
    },
    {
      "cell_type": "code",
      "execution_count": null,
      "metadata": {
        "colab": {
          "base_uri": "https://localhost:8080/"
        },
        "id": "yIUIlWDI4yc-",
        "outputId": "6edb8f0d-382e-457d-a4fb-2125363ad999"
      },
      "outputs": [
        {
          "output_type": "stream",
          "name": "stdout",
          "text": [
            "AND(0,0)=0\n",
            "AND(0,1)=0\n",
            "AND(1,0)=0\n",
            "AND(1,1)=1\n"
          ]
        }
      ],
      "source": [
        "import numpy as np\n",
        "\n",
        "theta=0\n",
        "w=1\n",
        "sum=0\n",
        "\n",
        "a=[[0,0,0],\n",
        "   [0,1,0],\n",
        "   [1,0,0],\n",
        "   [1,1,1]]\n",
        "   \n",
        "def threshold(theta,sum):   \n",
        "  if(theta==sum):\n",
        "    return 1\n",
        "  else:\n",
        "    return 0\n",
        "\n",
        "for i in range(len(a)):\n",
        "  sum=0\n",
        "  for j in range(len(a[i])-1):\n",
        "    sum+=a[i][j]*w\n",
        "  print(\"AND({},{})={}\".format(a[i][0],a[i][1],threshold(len(a[i])-1,sum)))"
      ]
    },
    {
      "cell_type": "markdown",
      "source": [
        "Boolean OR"
      ],
      "metadata": {
        "id": "KwhTNmc76A6t"
      }
    },
    {
      "cell_type": "code",
      "source": [
        "theta=0\n",
        "w=1\n",
        "sum=0\n",
        "\n",
        "a=[[0,0,0],\n",
        "   [0,1,1],\n",
        "   [1,0,1],\n",
        "   [1,1,1]]\n",
        "\n",
        "def threshold(theta,sum):  \n",
        "  if(theta==sum):\n",
        "    return 1\n",
        "  else:\n",
        "    return 0\n",
        "\n",
        "for i in range(len(a)):\n",
        "  sum=0\n",
        "  for j in range(len(a[i])-1):\n",
        "    sum+=a[i][j]*w\n",
        "  print(\"OR({},{})={}\".format(a[i][0],a[i][1],threshold(1,sum)))"
      ],
      "metadata": {
        "colab": {
          "base_uri": "https://localhost:8080/"
        },
        "id": "R-rfviZN5LcZ",
        "outputId": "c8c18b47-cfa6-49c9-cc83-b290b2cbd00a"
      },
      "execution_count": null,
      "outputs": [
        {
          "output_type": "stream",
          "name": "stdout",
          "text": [
            "OR(0,0)=0\n",
            "OR(0,1)=1\n",
            "OR(1,0)=1\n",
            "OR(1,1)=0\n"
          ]
        }
      ]
    },
    {
      "cell_type": "markdown",
      "source": [
        "PERCEPTRON"
      ],
      "metadata": {
        "id": "9sijdFC756c2"
      }
    },
    {
      "cell_type": "markdown",
      "source": [
        "Boolean AND"
      ],
      "metadata": {
        "id": "4P0u_L1K53GY"
      }
    },
    {
      "cell_type": "code",
      "source": [
        "import numpy as np\n",
        "\n",
        "def unit_step(v):\n",
        "\tif v >= 0:\n",
        "\t\treturn 1\n",
        "\telse:\n",
        "\t\treturn 0\n",
        "\t\n",
        "def perceptron(x, w, b):\n",
        "\tv = np.dot(w, x) + b\n",
        "\ty = unit_step(v)\n",
        "\treturn y\n"
      ],
      "metadata": {
        "id": "5eBShWYR5U_p"
      },
      "execution_count": null,
      "outputs": []
    },
    {
      "cell_type": "code",
      "source": [
        "def AND_percep(x):\n",
        "    w = np.array([1, 1])\n",
        "    b = -1.5\n",
        "    return perceptron(x, w, b)\n",
        "\n",
        "# Test\n",
        "example1 = np.array([1, 1])\n",
        "example2 = np.array([1, 0])\n",
        "example3 = np.array([0, 1])\n",
        "example4 = np.array([0, 0])\n",
        "\n",
        "print(\"AND({}, {}) = {}\".format(1, 1, AND_percep(example1)))\n",
        "print(\"AND({}, {}) = {}\".format(1, 0, AND_percep(example2)))\n",
        "print(\"AND({}, {}) = {}\".format(0, 1, AND_percep(example3)))\n",
        "print(\"AND({}, {}) = {}\".format(0, 0, AND_percep(example4)))"
      ],
      "metadata": {
        "colab": {
          "base_uri": "https://localhost:8080/"
        },
        "id": "kfNHvfzc5ZTt",
        "outputId": "cd77c045-7afc-4c90-d498-9eaa292fc410"
      },
      "execution_count": null,
      "outputs": [
        {
          "output_type": "stream",
          "name": "stdout",
          "text": [
            "AND(1, 1) = 1\n",
            "AND(1, 0) = 0\n",
            "AND(0, 1) = 0\n",
            "AND(0, 0) = 0\n"
          ]
        }
      ]
    },
    {
      "cell_type": "markdown",
      "source": [
        "Boolean OR"
      ],
      "metadata": {
        "id": "MFUTS73x5yVj"
      }
    },
    {
      "cell_type": "code",
      "source": [
        "def OR_percep(x):\n",
        "    w = np.array([1, 1])\n",
        "    b = -0.5\n",
        "    return perceptron(x, w, b)\n",
        "\n",
        "# Test\n",
        "example1 = np.array([1, 1])\n",
        "example2 = np.array([1, 0])\n",
        "example3 = np.array([0, 1])\n",
        "example4 = np.array([0, 0])\n",
        "\n",
        "print(\"OR({}, {}) = {}\".format(1, 1, OR_percep(example1)))\n",
        "print(\"OR({}, {}) = {}\".format(1, 0, OR_percep(example2)))\n",
        "print(\"OR({}, {}) = {}\".format(0, 1, OR_percep(example3)))\n",
        "print(\"OR({}, {}) = {}\".format(0, 0, OR_percep(example4)))"
      ],
      "metadata": {
        "colab": {
          "base_uri": "https://localhost:8080/"
        },
        "id": "d1J5tgIt5dCI",
        "outputId": "980f3ecd-32cb-4500-ebae-32bb68a7e242"
      },
      "execution_count": null,
      "outputs": [
        {
          "output_type": "stream",
          "name": "stdout",
          "text": [
            "OR(1, 1) = 1\n",
            "OR(1, 0) = 1\n",
            "OR(0, 1) = 1\n",
            "OR(0, 0) = 0\n"
          ]
        }
      ]
    },
    {
      "cell_type": "markdown",
      "source": [
        "\n",
        "**Boolean NOT**"
      ],
      "metadata": {
        "id": "8OfGuESV5o5g"
      }
    },
    {
      "cell_type": "code",
      "source": [
        "def NOT_percep(x):\n",
        "\treturn perceptron(x, w=-1, b=0.5)\n",
        "\n",
        "print(\"NOT(0) = {}\".format(NOT_percep(0)))\n",
        "print(\"NOT(1) = {}\".format(NOT_percep(1)))"
      ],
      "metadata": {
        "colab": {
          "base_uri": "https://localhost:8080/"
        },
        "id": "1Z_vKYz_5km2",
        "outputId": "6d010f81-68a9-4020-8488-38fc6c240b95"
      },
      "execution_count": null,
      "outputs": [
        {
          "output_type": "stream",
          "name": "stdout",
          "text": [
            "NOT(0) = 1\n",
            "NOT(1) = 0\n"
          ]
        }
      ]
    }
  ]
}